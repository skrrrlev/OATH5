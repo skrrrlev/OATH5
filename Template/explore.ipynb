{
 "cells": [
  {
   "cell_type": "code",
   "execution_count": 82,
   "metadata": {},
   "outputs": [],
   "source": [
    "import h5py\n",
    "import numpy as np\n",
    "from uuid import uuid4"
   ]
  },
  {
   "cell_type": "code",
   "execution_count": 83,
   "metadata": {},
   "outputs": [],
   "source": [
    "# Create template file and groups of interest\n",
    "f = h5py.File('oath5.hdf5', mode='w')\n",
    "if 'OATH5' not in f.keys():\n",
    "    f.create_group('OATH5')\n",
    "root = f['OATH5']\n",
    "if 'Configuration' not in root.keys():\n",
    "    root.create_group('Configuration')\n",
    "conf = root['Configuration']"
   ]
  },
  {
   "cell_type": "code",
   "execution_count": 84,
   "metadata": {},
   "outputs": [
    {
     "name": "stdout",
     "output_type": "stream",
     "text": [
      "[('UUID', 'S32'), ('Name', 'S32'), ('Code', 'S5'), ('State', '<i8')]\n"
     ]
    }
   ],
   "source": [
    "# Create basic compund data type for holding activities \n",
    "class State:\n",
    "    BUILTIN = -1\n",
    "    DISABLED = 0\n",
    "    ENABLED = 1\n",
    "\n",
    "dt = np.dtype([('UUID','S32'),('Name','S32'),('Code','S5'),('State','i8')])\n",
    "print(dt)"
   ]
  },
  {
   "cell_type": "code",
   "execution_count": 85,
   "metadata": {},
   "outputs": [
    {
     "name": "stdout",
     "output_type": "stream",
     "text": [
      "[(b'1903ef98a25a421c8887ac888fce18d0', b'Start', b'start', -1)\n",
      " (b'77872a5b090349729f9d5b3bceec1871', b'End', b'end', -1)]\n",
      "[(b'1903ef98a25a421c8887ac888fce18d0', b'Start', b'start', -1)\n",
      " (b'77872a5b090349729f9d5b3bceec1871', b'End', b'end', -1)]\n"
     ]
    }
   ],
   "source": [
    "# Create basic compund data set for holding activities\n",
    "a = np.zeros((2,),dtype=dt)\n",
    "a[0] = (uuid4().hex, 'Start','start',State.BUILTIN)\n",
    "a[1] = (uuid4().hex, 'End','end',State.BUILTIN)\n",
    "print(a)\n",
    "\n",
    "if 'activities' not in conf:\n",
    "    dset = conf.create_dataset('activities', shape=(2,), dtype=dt, chunks=True, maxshape=(None,))\n",
    "    dset[:] = a\n",
    "    print(dset[:])\n",
    "else:\n",
    "    dset = conf['activites']"
   ]
  },
  {
   "cell_type": "code",
   "execution_count": 86,
   "metadata": {},
   "outputs": [],
   "source": [
    "# Resize and create new entry\n",
    "entries = dset.shape[0]\n",
    "dset.resize((entries+1,))\n",
    "dset[entries] = (uuid4().hex, 'new','new',State.ENABLED) "
   ]
  },
  {
   "cell_type": "code",
   "execution_count": 87,
   "metadata": {},
   "outputs": [],
   "source": [
    "# f.close()"
   ]
  }
 ],
 "metadata": {
  "kernelspec": {
   "display_name": ".venv",
   "language": "python",
   "name": "python3"
  },
  "language_info": {
   "codemirror_mode": {
    "name": "ipython",
    "version": 3
   },
   "file_extension": ".py",
   "mimetype": "text/x-python",
   "name": "python",
   "nbconvert_exporter": "python",
   "pygments_lexer": "ipython3",
   "version": "3.10.6"
  },
  "orig_nbformat": 4
 },
 "nbformat": 4,
 "nbformat_minor": 2
}
